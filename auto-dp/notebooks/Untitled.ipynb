{
 "cells": [
  {
   "cell_type": "code",
   "execution_count": 7,
   "id": "9febdf4c",
   "metadata": {},
   "outputs": [],
   "source": [
    "import sys\n",
    "\n",
    "# very manual, sorry.\n",
    "sys.path.append('/home/bertrand/Documents/code/auto-dp/python')"
   ]
  },
  {
   "cell_type": "code",
   "execution_count": 8,
   "id": "881a8b93",
   "metadata": {},
   "outputs": [],
   "source": [
    "dbn = '([)(])'"
   ]
  },
  {
   "cell_type": "code",
   "execution_count": 9,
   "id": "cb5fd190",
   "metadata": {},
   "outputs": [],
   "source": [
    "from minimal_expansion import MinimalExpansion"
   ]
  },
  {
   "cell_type": "raw",
   "id": "b6a2aad3",
   "metadata": {},
   "source": [
    "graph = MinimalExpansion()\n",
    "graph.from_str('dbn')"
   ]
  },
  {
   "cell_type": "code",
   "execution_count": null,
   "id": "d7e47329",
   "metadata": {},
   "outputs": [],
   "source": []
  }
 ],
 "metadata": {
  "kernelspec": {
   "display_name": "Python 3 (ipykernel)",
   "language": "python",
   "name": "python3"
  },
  "language_info": {
   "codemirror_mode": {
    "name": "ipython",
    "version": 3
   },
   "file_extension": ".py",
   "mimetype": "text/x-python",
   "name": "python",
   "nbconvert_exporter": "python",
   "pygments_lexer": "ipython3",
   "version": "3.10.4"
  }
 },
 "nbformat": 4,
 "nbformat_minor": 5
}
